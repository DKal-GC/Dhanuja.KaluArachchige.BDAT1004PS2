{
 "cells": [
  {
   "cell_type": "markdown",
   "id": "00572e27-d0c7-43a2-9078-f0d37ce46670",
   "metadata": {},
   "source": [
    "<h1><font color='#004b87'><center>BDAT 1004 Problem Set 2</center></font></h1>\n",
    "<h2><center>Dhanuja Kalu Arachchige - 200539539</center></h2>"
   ]
  },
  {
   "cell_type": "markdown",
   "id": "bb616532-6656-4511-99ea-8fb71a31f1df",
   "metadata": {},
   "source": [
    "# Question 1"
   ]
  },
  {
   "cell_type": "markdown",
   "id": "b7df7ba4-07da-487e-b31d-36ecd27d12c4",
   "metadata": {},
   "source": [
    "_Explanation of the execution is provided below as inline comments_"
   ]
  },
  {
   "cell_type": "code",
   "execution_count": 1,
   "id": "69cfdd01-d55d-4946-b71b-5f637e5347aa",
   "metadata": {},
   "outputs": [],
   "source": [
    "a = 0        # Global variable a is assigned value 0\n",
    "\n",
    "def b():     # Definition of function b\n",
    "    global a # Makes the function refer to variable a in global scope\n",
    "             # Without this statement, function will use a local variable which only exists during function execution\n",
    "    a = c(a) # Here global variable a is entered to function c, which increases it by 2 and updates global value\n",
    "    \n",
    "def c(a):    # Definition of function c\n",
    "    return a + 2 # Entered value is increased by 2 and returned"
   ]
  },
  {
   "cell_type": "code",
   "execution_count": 2,
   "id": "d09f13a2-8881-4623-ac31-6bcc22cde921",
   "metadata": {},
   "outputs": [
    {
     "data": {
      "text/plain": [
       "6"
      ]
     },
     "execution_count": 2,
     "metadata": {},
     "output_type": "execute_result"
    }
   ],
   "source": [
    "b()    # In first call, global variable a with value 0 is increased by 2\n",
    "b()    # In second call, global variable a with value 2 is increased by 2\n",
    "b()    # In third call, global variable a with value 4 is increased by 2\n",
    "a      # In final output, global variable a has a value of 6"
   ]
  },
  {
   "cell_type": "markdown",
   "id": "3491234d-c968-4cc1-8e93-7bef6d9da6eb",
   "metadata": {},
   "source": [
    "# Question 2"
   ]
  },
  {
   "cell_type": "code",
   "execution_count": 3,
   "id": "0ce1efae-2621-4b1d-8188-eeb0992e79e5",
   "metadata": {},
   "outputs": [],
   "source": [
    "def fileLength(file_name):\n",
    "    try:\n",
    "        file = open(file_name)\n",
    "        contents = file.read()\n",
    "        file.close()\n",
    "        print(len(contents))\n",
    "    except FileNotFoundError:\n",
    "        print(f'File {file_name} was not found')\n",
    "    except UnicodeDecodeError:\n",
    "        print(f'File {file_name} could not be read as a text file')"
   ]
  },
  {
   "cell_type": "code",
   "execution_count": 4,
   "id": "77171073-1579-4e06-a21e-b86176142ed9",
   "metadata": {},
   "outputs": [
    {
     "name": "stdout",
     "output_type": "stream",
     "text": [
      "File w3.txt was not found\n"
     ]
    }
   ],
   "source": [
    "fileLength(\"w3.txt\")"
   ]
  },
  {
   "cell_type": "markdown",
   "id": "30833646-af5d-417d-8150-807420c795be",
   "metadata": {},
   "source": [
    "# Question 3"
   ]
  },
  {
   "cell_type": "code",
   "execution_count": 5,
   "id": "6ce7990d-b35c-4fc0-b9a3-87b7b1fa170f",
   "metadata": {},
   "outputs": [],
   "source": [
    "class Marsupial:\n",
    "    \"\"\"Represent the clade originating from the last common ancestor of extant metatherians. \n",
    "    Like other mammals they give birth to relatively undeveloped young that often reside in a pouch. [MS Bing]\"\"\"\n",
    "    \n",
    "    def __init__(self):\n",
    "        self.pouch = []\n",
    "    \n",
    "    def put_in_pouch(self, item):\n",
    "        self.pouch.append(item)\n",
    "        \n",
    "    def pouch_contents(self):\n",
    "        print(self.pouch)"
   ]
  },
  {
   "cell_type": "code",
   "execution_count": 6,
   "id": "9b464a15-ad01-468f-8e85-209bff40d31b",
   "metadata": {},
   "outputs": [
    {
     "name": "stdout",
     "output_type": "stream",
     "text": [
      "['doll', 'firetruck', 'kitten']\n"
     ]
    }
   ],
   "source": [
    "m = Marsupial()\n",
    "m.put_in_pouch('doll')\n",
    "m.put_in_pouch('firetruck')\n",
    "m.put_in_pouch('kitten')\n",
    "m.pouch_contents()"
   ]
  },
  {
   "cell_type": "code",
   "execution_count": 7,
   "id": "05fa80e5-5028-4b0d-a08e-86671d7dd535",
   "metadata": {},
   "outputs": [],
   "source": [
    "class Kangaroo(Marsupial):\n",
    "    \"\"\"Represents subclass of Marsupial\"\"\"\n",
    "\n",
    "    def __init__(self, x, y):\n",
    "        super().__init__()\n",
    "        self.x = x\n",
    "        self.y = y\n",
    "        \n",
    "    def jump(self, dx, dy):\n",
    "        self.x = self.x + dx\n",
    "        self.y = self.y + dy\n",
    "    \n",
    "    def __str__(self):\n",
    "        return f'I am a Kangaroo located at coordinates ({self.x},{self.y})'"
   ]
  },
  {
   "cell_type": "code",
   "execution_count": 8,
   "id": "95e84afb-8f9d-4182-80db-bb09a10c0c03",
   "metadata": {},
   "outputs": [
    {
     "name": "stdout",
     "output_type": "stream",
     "text": [
      "I am a Kangaroo located at coordinates (0,0)\n",
      "['doll', 'firetruck', 'kitten']\n",
      "I am a Kangaroo located at coordinates (3,0)\n"
     ]
    }
   ],
   "source": [
    "k = Kangaroo(0,0)\n",
    "print(k)\n",
    "\n",
    "k.put_in_pouch('doll')\n",
    "k.put_in_pouch('firetruck')\n",
    "k.put_in_pouch('kitten')\n",
    "k.pouch_contents()\n",
    "\n",
    "k.jump(1,0)\n",
    "k.jump(1,0)\n",
    "k.jump(1,0)\n",
    "print(k)"
   ]
  },
  {
   "cell_type": "markdown",
   "id": "78677dc0-107a-42a0-820e-a164fd440805",
   "metadata": {},
   "source": [
    "# Question 4"
   ]
  },
  {
   "cell_type": "code",
   "execution_count": 9,
   "id": "845f5add-3523-496e-b890-5f11f8b5cf6c",
   "metadata": {},
   "outputs": [],
   "source": [
    "def collatz(x):\n",
    "    if type(x) is not int:\n",
    "        print('Please input integer')\n",
    "    elif x < 1:\n",
    "        print('Please input positive integer')\n",
    "    elif x == 1:\n",
    "        print(x)\n",
    "    else:\n",
    "        print(x)\n",
    "        if (x % 2) == 0:\n",
    "            collatz(x//2)\n",
    "        elif (x % 2) == 1:\n",
    "            collatz(3*𝑥+1)"
   ]
  },
  {
   "cell_type": "code",
   "execution_count": 10,
   "id": "367518d5-13c9-4821-9bad-9d3dec8c3aa3",
   "metadata": {},
   "outputs": [
    {
     "name": "stdout",
     "output_type": "stream",
     "text": [
      "10\n",
      "5\n",
      "16\n",
      "8\n",
      "4\n",
      "2\n",
      "1\n"
     ]
    }
   ],
   "source": [
    "collatz(10)"
   ]
  },
  {
   "cell_type": "markdown",
   "id": "9ab2206a-c411-466f-86ec-142c71cf9074",
   "metadata": {},
   "source": [
    "# Question 5"
   ]
  },
  {
   "cell_type": "code",
   "execution_count": 11,
   "id": "d8ebd5cd-9303-46f3-ab13-a06000ebaac9",
   "metadata": {},
   "outputs": [],
   "source": [
    "def binary(x):\n",
    "    if type(x) is not int:\n",
    "        print('Please input integer')\n",
    "    elif x < 0:\n",
    "        print('Please input non-negative integer')\n",
    "    else:\n",
    "        if x == 0 or x ==1:\n",
    "            print(x % 2, end =\"\")\n",
    "        else:\n",
    "            binary(x // 2)\n",
    "            print(x % 2, end =\"\")            "
   ]
  },
  {
   "cell_type": "code",
   "execution_count": 12,
   "id": "611f6999-3751-48ab-a711-4f66809c9229",
   "metadata": {},
   "outputs": [
    {
     "name": "stdout",
     "output_type": "stream",
     "text": [
      "10011100"
     ]
    }
   ],
   "source": [
    "binary(156)"
   ]
  },
  {
   "cell_type": "markdown",
   "id": "cca18c1b-7d3d-4402-9f33-974377cddcfc",
   "metadata": {},
   "source": [
    "# Question 6"
   ]
  },
  {
   "cell_type": "code",
   "execution_count": 13,
   "id": "c5d0daef-7668-45c0-b281-e7094456bf2d",
   "metadata": {},
   "outputs": [],
   "source": [
    "from html.parser import HTMLParser "
   ]
  },
  {
   "cell_type": "code",
   "execution_count": 14,
   "id": "64d7c6fe-5533-450c-aa11-4db9b9556d08",
   "metadata": {},
   "outputs": [],
   "source": [
    "class HeadingParser(HTMLParser):\n",
    "      \n",
    "    def __init__(self):\n",
    "        super().__init__()\n",
    "        self.header_tags = {'h1':'', 'h2':' ', 'h3':'  ', 'h4':'   ', 'h5':'    ', 'h6':'     '}\n",
    "        self.alldata = []\n",
    "        \n",
    "    def handle_starttag(self, tag, attrs):\n",
    "        self.alldata.append(tag)\n",
    "            \n",
    "    def handle_data(self, data):\n",
    "        self.alldata.append(data)\n",
    "               \n",
    "    def feed(self, content):\n",
    "        super().feed(content)\n",
    "        for i in range(len(self.alldata)):\n",
    "            data = self.alldata[i]\n",
    "            if data in self.header_tags.keys():\n",
    "                print(self.header_tags[data], self.alldata[i+1])\n",
    "        "
   ]
  },
  {
   "cell_type": "code",
   "execution_count": 15,
   "id": "ba23abd6-b404-4f01-86a8-313090f7a06b",
   "metadata": {},
   "outputs": [
    {
     "name": "stdout",
     "output_type": "stream",
     "text": [
      " W3C Mission\n",
      "  Principles\n"
     ]
    }
   ],
   "source": [
    "infile = open('w3c.txt')\n",
    "content = infile.read()\n",
    "infile.close()\n",
    "hp = HeadingParser()\n",
    "hp.feed(content)"
   ]
  },
  {
   "cell_type": "markdown",
   "id": "0f2fc0be-9994-4467-85c8-5feb5d927b13",
   "metadata": {},
   "source": [
    "# Question 7"
   ]
  },
  {
   "cell_type": "code",
   "execution_count": 16,
   "id": "182e4608-1936-4807-9750-8050f333d0ae",
   "metadata": {},
   "outputs": [],
   "source": [
    "from urllib.request import urlopen\n",
    "from urllib.parse import urljoin\n",
    "from html.parser import HTMLParser"
   ]
  },
  {
   "cell_type": "code",
   "execution_count": 17,
   "id": "24b4bf13-c4c0-4fc2-be83-15d4623b098d",
   "metadata": {},
   "outputs": [],
   "source": [
    "class Collector(HTMLParser):\n",
    "    'collects hyperlink URLs into a list'\n",
    "\n",
    "    def __init__(self, url):\n",
    "        'initializes parser, the url, and a list'\n",
    "        HTMLParser.__init__(self)\n",
    "        self.url = url\n",
    "        self.links = []\n",
    "\n",
    "    \n",
    "    def handle_starttag(self, tag, attrs):\n",
    "        'collects hyperlink URLs in their absolute format'\n",
    "        if tag == 'a':\n",
    "            for attr in attrs:\n",
    "                if attr[0] == 'href':\n",
    "                    # construct absolute URL\n",
    "                    absolute = urljoin(self.url, attr[1])\n",
    "                    if absolute[:4] == 'http': # collect HTTP URLs\n",
    "                        self.links.append(absolute)\n",
    "                        \n",
    "    def getLinks(self):\n",
    "        'returns hyperlinks URLs in their absolute format'\n",
    "        return self.links"
   ]
  },
  {
   "cell_type": "code",
   "execution_count": 18,
   "id": "115cb521-751f-4431-a1e1-bf85255a37ef",
   "metadata": {
    "tags": []
   },
   "outputs": [],
   "source": [
    "def webdir(url, depth, indent):\n",
    "    resource = urlopen(url)\n",
    "    content = resource.read().decode()\n",
    "    collector = Collector(url)\n",
    "    collector.feed(content)\n",
    "    links = collector.getLinks()\n",
    "    \n",
    "    if depth < 0:\n",
    "        for link in links:\n",
    "            print(indent * '    ', link)\n",
    "    else:\n",
    "        print(indent * '    ', url)\n",
    "        for link in links:\n",
    "            webdir(link, depth-1, indent + 1)"
   ]
  },
  {
   "cell_type": "code",
   "execution_count": 19,
   "id": "03e8cb05-4668-4617-b7b3-f135fb2d58f7",
   "metadata": {
    "tags": []
   },
   "outputs": [
    {
     "name": "stdout",
     "output_type": "stream",
     "text": [
      " http://reed.cs.depaul.edu/lperkovic/test1.html\n",
      "     http://reed.cs.depaul.edu/lperkovic/test2.html\n",
      "         http://reed.cs.depaul.edu/lperkovic/test4.html\n",
      "     http://reed.cs.depaul.edu/lperkovic/test3.html\n",
      "         http://reed.cs.depaul.edu/lperkovic/test4.html\n"
     ]
    }
   ],
   "source": [
    "url = \"http://reed.cs.depaul.edu/lperkovic/test1.html\"\n",
    "\n",
    "webdir(url, 2, 0)"
   ]
  },
  {
   "cell_type": "markdown",
   "id": "6f277c66-09cb-4046-a7ec-43b4b07bbf37",
   "metadata": {},
   "source": [
    "# Question 8"
   ]
  },
  {
   "cell_type": "code",
   "execution_count": 20,
   "id": "939683ee-e87c-4812-907a-2d2988e69306",
   "metadata": {},
   "outputs": [],
   "source": [
    "# Install as per the requirement\n",
    "# !pip install ipython-sql"
   ]
  },
  {
   "cell_type": "code",
   "execution_count": 21,
   "id": "0dfe54b2-5b32-46cc-8c6d-55a986e22016",
   "metadata": {},
   "outputs": [],
   "source": [
    "# Fix from : https://community.dataquest.io/t/guided-sql-project-error-cell-magic-sql-not-found/348678"
   ]
  },
  {
   "cell_type": "code",
   "execution_count": 22,
   "id": "109193f2-91e8-4a34-af53-472f45b88e63",
   "metadata": {},
   "outputs": [],
   "source": [
    "%%capture\n",
    "%load_ext sql\n",
    "%sql sqlite:///weather.db"
   ]
  },
  {
   "cell_type": "code",
   "execution_count": 23,
   "id": "c221ca51-dd38-43f6-85ea-9afe470522dc",
   "metadata": {},
   "outputs": [
    {
     "name": "stdout",
     "output_type": "stream",
     "text": [
      " * sqlite:///weather.db\n",
      "Done.\n"
     ]
    },
    {
     "data": {
      "text/plain": [
       "[]"
      ]
     },
     "execution_count": 23,
     "metadata": {},
     "output_type": "execute_result"
    }
   ],
   "source": [
    "%%sql \n",
    "CREATE TABLE  IF NOT EXISTS weather\n",
    "(\n",
    "  city TEXT, \n",
    "  country TEXT, \n",
    "  season TEXT,\n",
    "  temperature REAL,\n",
    "  rainfall REAL\n",
    ")"
   ]
  },
  {
   "cell_type": "markdown",
   "id": "8d2cb36e-18d2-4c6f-a06c-5166e60a8302",
   "metadata": {},
   "source": [
    "## Question 8.a"
   ]
  },
  {
   "cell_type": "code",
   "execution_count": 24,
   "id": "5c71cd55-6cc2-4bbc-b0cf-0e402de569a8",
   "metadata": {},
   "outputs": [
    {
     "name": "stdout",
     "output_type": "stream",
     "text": [
      " * sqlite:///weather.db\n",
      "Done.\n"
     ]
    },
    {
     "data": {
      "text/html": [
       "<table>\n",
       "    <tr>\n",
       "        <th>city</th>\n",
       "        <th>country</th>\n",
       "        <th>season</th>\n",
       "        <th>temperature</th>\n",
       "        <th>rainfall</th>\n",
       "    </tr>\n",
       "</table>"
      ],
      "text/plain": [
       "[]"
      ]
     },
     "execution_count": 24,
     "metadata": {},
     "output_type": "execute_result"
    }
   ],
   "source": [
    "%%sql   \n",
    "SELECT * FROM weather"
   ]
  },
  {
   "cell_type": "markdown",
   "id": "94fff318-ce1a-4ec1-9289-f92aed6ef79e",
   "metadata": {},
   "source": [
    "## Question 8.b"
   ]
  },
  {
   "cell_type": "code",
   "execution_count": 25,
   "id": "14b2a85e-d68e-4c21-8240-91e1e709f03e",
   "metadata": {},
   "outputs": [
    {
     "name": "stdout",
     "output_type": "stream",
     "text": [
      " * sqlite:///weather.db\n",
      "Done.\n"
     ]
    },
    {
     "data": {
      "text/html": [
       "<table>\n",
       "    <tr>\n",
       "        <th>city</th>\n",
       "    </tr>\n",
       "</table>"
      ],
      "text/plain": [
       "[]"
      ]
     },
     "execution_count": 25,
     "metadata": {},
     "output_type": "execute_result"
    }
   ],
   "source": [
    "%%sql   \n",
    "SELECT distinct city FROM weather"
   ]
  },
  {
   "cell_type": "markdown",
   "id": "efc00110-0207-4bd7-bf5a-d970295bf530",
   "metadata": {},
   "source": [
    "## Question 8.c"
   ]
  },
  {
   "cell_type": "code",
   "execution_count": 26,
   "id": "aac7bf39-991f-4055-a26d-b6462b2a10f5",
   "metadata": {},
   "outputs": [
    {
     "name": "stdout",
     "output_type": "stream",
     "text": [
      " * sqlite:///weather.db\n",
      "Done.\n"
     ]
    },
    {
     "data": {
      "text/html": [
       "<table>\n",
       "    <tr>\n",
       "        <th>city</th>\n",
       "        <th>country</th>\n",
       "        <th>season</th>\n",
       "        <th>temperature</th>\n",
       "        <th>rainfall</th>\n",
       "    </tr>\n",
       "</table>"
      ],
      "text/plain": [
       "[]"
      ]
     },
     "execution_count": 26,
     "metadata": {},
     "output_type": "execute_result"
    }
   ],
   "source": [
    "%%sql   \n",
    "SELECT * FROM weather\n",
    "where country = 'India'"
   ]
  },
  {
   "cell_type": "markdown",
   "id": "4437cd96-aa0d-489a-9ad6-0117604230c3",
   "metadata": {},
   "source": [
    "## Question 8.d"
   ]
  },
  {
   "cell_type": "code",
   "execution_count": 27,
   "id": "7249928c-1c3b-4a88-9af7-3d4fe46a2668",
   "metadata": {},
   "outputs": [
    {
     "name": "stdout",
     "output_type": "stream",
     "text": [
      " * sqlite:///weather.db\n",
      "Done.\n"
     ]
    },
    {
     "data": {
      "text/html": [
       "<table>\n",
       "    <tr>\n",
       "        <th>city</th>\n",
       "        <th>country</th>\n",
       "        <th>season</th>\n",
       "        <th>temperature</th>\n",
       "        <th>rainfall</th>\n",
       "    </tr>\n",
       "</table>"
      ],
      "text/plain": [
       "[]"
      ]
     },
     "execution_count": 27,
     "metadata": {},
     "output_type": "execute_result"
    }
   ],
   "source": [
    "%%sql   \n",
    "SELECT * FROM weather\n",
    "where season = 'Fall'"
   ]
  },
  {
   "cell_type": "markdown",
   "id": "2235fa8d-94b3-4864-9d8b-33bcb1e80060",
   "metadata": {},
   "source": [
    "## Question 8.e"
   ]
  },
  {
   "cell_type": "code",
   "execution_count": 28,
   "id": "5690e065-b50c-4e5d-aa4c-49b06dd857a2",
   "metadata": {},
   "outputs": [
    {
     "name": "stdout",
     "output_type": "stream",
     "text": [
      " * sqlite:///weather.db\n",
      "Done.\n"
     ]
    },
    {
     "data": {
      "text/html": [
       "<table>\n",
       "    <tr>\n",
       "        <th>city</th>\n",
       "        <th>country</th>\n",
       "        <th>season</th>\n",
       "    </tr>\n",
       "</table>"
      ],
      "text/plain": [
       "[]"
      ]
     },
     "execution_count": 28,
     "metadata": {},
     "output_type": "execute_result"
    }
   ],
   "source": [
    "%%sql   \n",
    "SELECT city, country, season FROM weather\n",
    "where rainfall between 200 and 400"
   ]
  },
  {
   "cell_type": "markdown",
   "id": "9dfac170-bfea-4c49-9136-b19926f2febf",
   "metadata": {},
   "source": [
    "## Question 8.f"
   ]
  },
  {
   "cell_type": "code",
   "execution_count": 29,
   "id": "7b350606-c4e2-4bb5-a9b2-c88bfd739458",
   "metadata": {},
   "outputs": [
    {
     "name": "stdout",
     "output_type": "stream",
     "text": [
      " * sqlite:///weather.db\n",
      "Done.\n"
     ]
    },
    {
     "data": {
      "text/html": [
       "<table>\n",
       "    <tr>\n",
       "        <th>city</th>\n",
       "        <th>country</th>\n",
       "    </tr>\n",
       "</table>"
      ],
      "text/plain": [
       "[]"
      ]
     },
     "execution_count": 29,
     "metadata": {},
     "output_type": "execute_result"
    }
   ],
   "source": [
    "%%sql   \n",
    "SELECT city, country FROM weather\n",
    "where temperature >= 20 and season = 'Fall'\n",
    "order by temperature"
   ]
  },
  {
   "cell_type": "markdown",
   "id": "90d110fc-fe16-457a-ae7a-4f24806f17b2",
   "metadata": {},
   "source": [
    "## Question 8.g"
   ]
  },
  {
   "cell_type": "code",
   "execution_count": 30,
   "id": "5de0bbc8-72b6-4b81-a9de-abd9ec25a176",
   "metadata": {},
   "outputs": [
    {
     "name": "stdout",
     "output_type": "stream",
     "text": [
      " * sqlite:///weather.db\n",
      "Done.\n"
     ]
    },
    {
     "data": {
      "text/html": [
       "<table>\n",
       "    <tr>\n",
       "        <th>SUM(rainfall)</th>\n",
       "    </tr>\n",
       "    <tr>\n",
       "        <td>None</td>\n",
       "    </tr>\n",
       "</table>"
      ],
      "text/plain": [
       "[(None,)]"
      ]
     },
     "execution_count": 30,
     "metadata": {},
     "output_type": "execute_result"
    }
   ],
   "source": [
    "%%sql   \n",
    "SELECT SUM(rainfall) FROM weather\n",
    "where city = 'Cairo'"
   ]
  },
  {
   "cell_type": "markdown",
   "id": "088b8900-a8e7-45d1-999d-509a38a5d3a6",
   "metadata": {},
   "source": [
    "## Question 8.h"
   ]
  },
  {
   "cell_type": "code",
   "execution_count": 31,
   "id": "1a7ce594-81b0-4a4b-8a17-97b929ccebf0",
   "metadata": {},
   "outputs": [
    {
     "name": "stdout",
     "output_type": "stream",
     "text": [
      " * sqlite:///weather.db\n",
      "Done.\n"
     ]
    },
    {
     "data": {
      "text/html": [
       "<table>\n",
       "    <tr>\n",
       "        <th>season</th>\n",
       "        <th>SUM(rainfall)</th>\n",
       "    </tr>\n",
       "</table>"
      ],
      "text/plain": [
       "[]"
      ]
     },
     "execution_count": 31,
     "metadata": {},
     "output_type": "execute_result"
    }
   ],
   "source": [
    "%%sql   \n",
    "SELECT season, SUM(rainfall) FROM weather\n",
    "group by season"
   ]
  },
  {
   "cell_type": "markdown",
   "id": "953833a8-8d40-4b95-9ef9-18ad453eb7e6",
   "metadata": {},
   "source": [
    "# Question 9"
   ]
  },
  {
   "cell_type": "code",
   "execution_count": 32,
   "id": "f2073b5f-a7ff-43d5-a604-9ff1728bc1f4",
   "metadata": {},
   "outputs": [],
   "source": [
    "words = ['The', 'quick', 'brown', 'fox', 'jumps', 'over', 'the', 'lazy', 'dog']"
   ]
  },
  {
   "cell_type": "markdown",
   "id": "61cb6cb0-1c9e-431a-9d1b-01afdde359f5",
   "metadata": {},
   "source": [
    "## Question 9.a"
   ]
  },
  {
   "cell_type": "code",
   "execution_count": 33,
   "id": "dc4b4e43-1265-40c1-ac73-00bd548c54b8",
   "metadata": {},
   "outputs": [
    {
     "data": {
      "text/plain": [
       "['THE', 'QUICK', 'BROWN', 'FOX', 'JUMPS', 'OVER', 'THE', 'LAZY', 'DOG']"
      ]
     },
     "execution_count": 33,
     "metadata": {},
     "output_type": "execute_result"
    }
   ],
   "source": [
    "[word.upper() for word in words]"
   ]
  },
  {
   "cell_type": "markdown",
   "id": "408cfcfa-94ee-4aee-bbc6-66a23fc395db",
   "metadata": {},
   "source": [
    "## Question 9.b"
   ]
  },
  {
   "cell_type": "code",
   "execution_count": 34,
   "id": "53af1143-ec9a-4ef1-b396-b47f8b56088f",
   "metadata": {},
   "outputs": [
    {
     "data": {
      "text/plain": [
       "['the', 'quick', 'brown', 'fox', 'jumps', 'over', 'the', 'lazy', 'dog']"
      ]
     },
     "execution_count": 34,
     "metadata": {},
     "output_type": "execute_result"
    }
   ],
   "source": [
    "[word.lower() for word in words]"
   ]
  },
  {
   "cell_type": "markdown",
   "id": "0f335621-b351-4803-aadc-2a6494c8f807",
   "metadata": {},
   "source": [
    "## Question 9.c"
   ]
  },
  {
   "cell_type": "code",
   "execution_count": 35,
   "id": "683c91f1-05ce-4a61-baa1-542f47f2ad10",
   "metadata": {},
   "outputs": [
    {
     "data": {
      "text/plain": [
       "[3, 5, 5, 3, 5, 4, 3, 4, 3]"
      ]
     },
     "execution_count": 35,
     "metadata": {},
     "output_type": "execute_result"
    }
   ],
   "source": [
    "[len(word) for word in words]"
   ]
  },
  {
   "cell_type": "markdown",
   "id": "e08ffd60-41d2-4bed-995e-f63d1907d1ba",
   "metadata": {},
   "source": [
    "## Question 9.d"
   ]
  },
  {
   "cell_type": "code",
   "execution_count": 36,
   "id": "63cf3372-4505-4c6d-a0c2-cbb4cc369ee4",
   "metadata": {},
   "outputs": [
    {
     "data": {
      "text/plain": [
       "[['THE', 'the', 3],\n",
       " ['QUICK', 'quick', 5],\n",
       " ['BROWN', 'brown', 5],\n",
       " ['FOX', 'fox', 3],\n",
       " ['JUMPS', 'jumps', 5],\n",
       " ['OVER', 'over', 4],\n",
       " ['THE', 'the', 3],\n",
       " ['LAZY', 'lazy', 4],\n",
       " ['DOG', 'dog', 3]]"
      ]
     },
     "execution_count": 36,
     "metadata": {},
     "output_type": "execute_result"
    }
   ],
   "source": [
    "[[word.upper(), word.lower(), len(word)] for word in words]"
   ]
  },
  {
   "cell_type": "markdown",
   "id": "29340b9f-87d4-47c5-ba5d-bfdd4850f411",
   "metadata": {},
   "source": [
    "## Question 9.e"
   ]
  },
  {
   "cell_type": "code",
   "execution_count": 37,
   "id": "67debf70-551e-470d-a657-eb18211b5361",
   "metadata": {},
   "outputs": [
    {
     "data": {
      "text/plain": [
       "['quick', 'brown', 'jumps', 'over', 'lazy']"
      ]
     },
     "execution_count": 37,
     "metadata": {},
     "output_type": "execute_result"
    }
   ],
   "source": [
    "[word for word in words if len(word) >= 4]"
   ]
  },
  {
   "cell_type": "code",
   "execution_count": null,
   "id": "aa780b46-03e7-44f4-9b54-7b5ce2864b3a",
   "metadata": {},
   "outputs": [],
   "source": []
  }
 ],
 "metadata": {
  "kernelspec": {
   "display_name": "Python 3 (ipykernel)",
   "language": "python",
   "name": "python3"
  },
  "language_info": {
   "codemirror_mode": {
    "name": "ipython",
    "version": 3
   },
   "file_extension": ".py",
   "mimetype": "text/x-python",
   "name": "python",
   "nbconvert_exporter": "python",
   "pygments_lexer": "ipython3",
   "version": "3.10.7"
  }
 },
 "nbformat": 4,
 "nbformat_minor": 5
}
